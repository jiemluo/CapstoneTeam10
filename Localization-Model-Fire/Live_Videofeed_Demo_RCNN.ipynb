{
  "nbformat": 4,
  "nbformat_minor": 0,
  "metadata": {
    "colab": {
      "provenance": []
    },
    "kernelspec": {
      "name": "python3",
      "display_name": "Python 3"
    },
    "language_info": {
      "name": "python"
    }
  },
  "cells": [
    {
      "cell_type": "code",
      "execution_count": null,
      "metadata": {
        "id": "Z1_za9Bw6Fpx"
      },
      "outputs": [],
      "source": [
        "import torch\n",
        "import torchvision\n",
        "from torchvision.models.detection.faster_rcnn import FastRCNNPredictor\n",
        "from pathlib import Path\n",
        "import os\n",
        "import cv2\n",
        "from torchvision.io import read_image\n",
        "import matplotlib.pyplot as plt\n",
        "from torchvision import models, transforms\n",
        "import numpy as np\n",
        "\n",
        "# Loading the model structure that we will upload our trained model on\n",
        "model = torchvision.models.detection.fasterrcnn_resnet50_fpn(pretrained=True)\n",
        "\n",
        "num_classes = 3\n",
        "in_features = model.roi_heads.box_predictor.cls_score.in_features\n",
        "model.roi_heads.box_predictor = FastRCNNPredictor(in_features, num_classes)\n",
        "\n",
        "# Move model to GPU if available\n",
        "device = torch.device(\"cuda\" if torch.cuda.is_available() else \"cpu\")\n",
        "model.to(device)\n",
        "print(device)"
      ]
    },
    {
      "cell_type": "code",
      "source": [
        "model_path = 'test_model_01_RCNN.pth' # uploaded trained model dict state path, change accordingly.\n",
        "\n",
        "!ls -lh {model_path}  # Checking file size and permissions.\n",
        "#!unzip -t {model_path} # Uncomment this line if file unzipping needed.\n",
        "\n",
        "model.load_state_dict(torch.load(model_path, map_location=torch.device(\"cuda\" if torch.cuda.is_available() else \"cpu\"))) # Loading the state dictionary.\n",
        "model.eval() # Setting evaluation mode."
      ],
      "metadata": {
        "id": "v83lTn0z6jhd"
      },
      "execution_count": null,
      "outputs": []
    },
    {
      "cell_type": "code",
      "source": [
        "# Transform input frame to tensor\n",
        "transform = transforms.Compose([\n",
        "    transforms.ToTensor()\n",
        "])\n",
        "\n",
        "# Open webcam\n",
        "cap = cv2.VideoCapture(0)  # 0 for default camera\n",
        "if not (cap.isOpened()):\n",
        "    print('Camera could not be opened, check device settings/permissions')\n",
        "\n",
        "while True:\n",
        "    ret, frame = cap.read()\n",
        "    if not ret:\n",
        "        break\n",
        "\n",
        "    image = cv2.cvtColor(frame, cv2.COLOR_BGR2RGB)\n",
        "    image_tensor = transform(image)\n",
        "\n",
        "    with torch.no_grad():\n",
        "        predictions = model([image_tensor])[0]\n",
        "\n",
        "    # Draw predictions\n",
        "    for box, score, label in zip(predictions['boxes'], predictions['scores'], predictions['labels']):\n",
        "        if score > 0.5:\n",
        "            x1, y1, x2, y2 = box.int().numpy()\n",
        "            cv2.rectangle(frame, (x1, y1), (x2, y2), (0, 255, 0), 2)\n",
        "            cv2.putText(frame, f'{label.item()} {score:.2f}', (x1, y1 - 10),\n",
        "                        cv2.FONT_HERSHEY_SIMPLEX, 0.5, (0, 255, 0), 2)\n",
        "\n",
        "    # Show result\n",
        "    cv2.imshow('Live Fire Detection', frame)\n",
        "\n",
        "    # Press 'q' to quit\n",
        "    if cv2.waitKey(1) & 0xFF == ord('q'):\n",
        "        print('testing')\n",
        "        break\n",
        "\n",
        "cap.release()\n",
        "cv2.destroyAllWindows()"
      ],
      "metadata": {
        "id": "sy1ScVBX6nRs"
      },
      "execution_count": null,
      "outputs": []
    }
  ]
}